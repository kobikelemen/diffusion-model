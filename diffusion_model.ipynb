{
 "cells": [
  {
   "cell_type": "code",
   "execution_count": 111,
   "metadata": {},
   "outputs": [],
   "source": [
    "import os\n",
    "import numpy as np\n",
    "import torch\n",
    "import torch.nn as nn\n",
    "from torch.utils.data import DataLoader, sampler\n",
    "from torchvision import datasets, transforms\n",
    "from torchvision.utils import save_image, make_grid\n",
    "import torch.nn.functional as F\n",
    "import matplotlib.pyplot as plt\n",
    "import tqdm\n",
    "from math import sqrt"
   ]
  },
  {
   "cell_type": "code",
   "execution_count": 112,
   "metadata": {},
   "outputs": [],
   "source": [
    "learning_rate = 1e-3\n",
    "num_epochs = 10\n",
    "batch_size = 8\n",
    "beta = 0.001"
   ]
  },
  {
   "cell_type": "code",
   "execution_count": 113,
   "metadata": {},
   "outputs": [],
   "source": [
    "data_path = './data'\n",
    "device = 'cuda:0'\n",
    "\n",
    "transform = transforms.Compose([\n",
    "    transforms.ToTensor(),\n",
    "])\n",
    "\n",
    "train_dat = datasets.MNIST(\n",
    "    data_path, train=True, download=True, transform=transform\n",
    ")\n",
    "test_dat = datasets.MNIST(data_path, train=False, transform=transform)\n",
    "\n",
    "loader_train = DataLoader(train_dat, batch_size, shuffle=True, generator=torch.Generator(device=device))\n",
    "loader_test = DataLoader(test_dat, batch_size, shuffle=False, generator=torch.Generator(device=device))"
   ]
  },
  {
   "cell_type": "code",
   "execution_count": 114,
   "metadata": {},
   "outputs": [],
   "source": [
    "\n",
    "def make_time_embedding(num_steps, emb_dim):\n",
    "    embedding_mat = torch.empty((num_steps, emb_dim))\n",
    "    for step in range(num_steps):\n",
    "        embedding = torch.tensor([1 / 10000 ** (2*i / emb_dim) for i in range(emb_dim)])\n",
    "        if step % 2 == 0:\n",
    "            embedding = (embedding * step).sin()\n",
    "        else:\n",
    "            embedding = (embedding * step).cos()\n",
    "        embedding_mat[step] = embedding\n",
    "    time_embed = nn.Embedding(num_steps, emb_dim)\n",
    "    time_embed.weight.data = embedding_mat\n",
    "    time_embed.requires_grad_(False)\n",
    "    return time_embed\n"
   ]
  },
  {
   "cell_type": "code",
   "execution_count": 115,
   "metadata": {},
   "outputs": [],
   "source": [
    "\n",
    "def make_time_embedding_mlp(in_d, out_d):\n",
    "    return nn.Sequential(\n",
    "        nn.Linear(in_d, out_d),\n",
    "        nn.ReLU(),\n",
    "        nn.Linear(out_d, out_d)\n",
    "    )\n",
    "        \n",
    "\n",
    "class Block(nn.Module):\n",
    "    def __init__(self, shape, in_c, out_c, kernel_size=3, stride=1, padding=1, normalize=True):\n",
    "        super(Block, self).__init__()\n",
    "        self.ln = nn.LayerNorm(shape)\n",
    "        self.conv1 = nn.Conv2d(in_c, out_c, kernel_size, stride, padding)\n",
    "        self.conv2 = nn.Conv2d(out_c, out_c, kernel_size, stride, padding)\n",
    "        self.activation = nn.SiLU()\n",
    "        self.normalize = normalize\n",
    "\n",
    "    def forward(self, x):\n",
    "        out = self.ln(x) if self.normalize else x\n",
    "        out = self.conv1(out)\n",
    "        out = self.activation(out)\n",
    "        out = self.conv2(out)\n",
    "        out = self.activation(out)\n",
    "        return out\n",
    "    \n",
    "\n",
    "class UNet(nn.Module):\n",
    "    \"\"\" Using a UNet architecture as noise function approximator \"\"\"\n",
    "    def __init__(self, num_steps=1000, emb_dim=100):\n",
    "        super(UNet, self).__init__()\n",
    "        self.time_embed = make_time_embedding(num_steps, emb_dim)\n",
    "        self.te1 = make_time_embedding_mlp(emb_dim, 1)\n",
    "        self.b1 = nn.Sequential(\n",
    "            Block((1, 28, 28), 1, 10),\n",
    "            Block((10, 28, 28), 10, 10),\n",
    "            Block((10, 28, 28), 10, 10)\n",
    "        )\n",
    "        self.down1 = nn.Conv2d(10, 10, 4, 2, 1)\n",
    "\n",
    "        self.te2 = make_time_embedding_mlp(emb_dim, 10)\n",
    "        self.b2 = nn.Sequential(\n",
    "            Block((10, 14, 14), 10, 20),\n",
    "            Block((20, 14, 14), 20, 20),\n",
    "            Block((20, 14, 14), 20, 20)\n",
    "        )\n",
    "        self.down2 = nn.Conv2d(20, 20, 4, 2, 1)\n",
    "\n",
    "        self.te3 = make_time_embedding_mlp(emb_dim, 20)\n",
    "        self.b3 = nn.Sequential(\n",
    "            Block((20, 7, 7), 20, 40),\n",
    "            Block((40, 7, 7), 40, 40),\n",
    "            Block((40, 7, 7), 40, 40)\n",
    "        )\n",
    "        self.down3 = nn.Sequential(\n",
    "            nn.Conv2d(40, 40, 2, 1),\n",
    "            nn.SiLU(),\n",
    "            nn.Conv2d(40, 40, 4, 2, 1)\n",
    "        )\n",
    "\n",
    "        # Bottleneck\n",
    "        self.te_mid = make_time_embedding_mlp(emb_dim, 40)\n",
    "        self.b_mid = nn.Sequential(\n",
    "            Block((40, 3, 3), 40, 20),\n",
    "            Block((20, 3, 3), 20, 20),\n",
    "            Block((20, 3, 3), 20, 40)\n",
    "        )\n",
    "\n",
    "        # Second half\n",
    "        self.up1 = nn.Sequential(\n",
    "            nn.ConvTranspose2d(40, 40, 4, 2, 1),\n",
    "            nn.SiLU(),\n",
    "            nn.ConvTranspose2d(40, 40, 2, 1)\n",
    "        )\n",
    "\n",
    "        self.te4 = make_time_embedding_mlp(emb_dim, 80)\n",
    "        self.b4 = nn.Sequential(\n",
    "            Block((80, 7, 7), 80, 40),\n",
    "            Block((40, 7, 7), 40, 20),\n",
    "            Block((20, 7, 7), 20, 20)\n",
    "        )\n",
    "\n",
    "        self.up2 = nn.ConvTranspose2d(20, 20, 4, 2, 1)\n",
    "        self.te5 = make_time_embedding_mlp(emb_dim, 40)\n",
    "        self.b5 = nn.Sequential(\n",
    "            Block((40, 14, 14), 40, 20),\n",
    "            Block((20, 14, 14), 20, 10),\n",
    "            Block((10, 14, 14), 10, 10)\n",
    "        )\n",
    "\n",
    "        self.up3 = nn.ConvTranspose2d(10, 10, 4, 2, 1)\n",
    "        self.te_out = make_time_embedding_mlp(emb_dim, 20)\n",
    "        self.b_out = nn.Sequential(\n",
    "            Block((20, 28, 28), 20, 10),\n",
    "            Block((10, 28, 28), 10, 10),\n",
    "            Block((10, 28, 28), 10, 10, normalize=False)\n",
    "        )\n",
    "\n",
    "        self.conv_out = nn.Conv2d(10, 1, 3, 1, 1)\n",
    "    \n",
    "    def forward(self, x, t):\n",
    "        # x is (N, 2, 28, 28) (image with positional embedding stacked on channel dimension)\n",
    "        t = self.time_embed(t)\n",
    "        n = len(x)\n",
    "        out1 = self.b1(x + self.te1(t).reshape(n, -1, 1, 1))  # (N, 10, 28, 28)\n",
    "        out2 = self.b2(self.down1(out1) + self.te2(t).reshape(n, -1, 1, 1))  # (N, 20, 14, 14)\n",
    "        out3 = self.b3(self.down2(out2) + self.te3(t).reshape(n, -1, 1, 1))  # (N, 40, 7, 7)\n",
    "        out_mid = self.b_mid(self.down3(out3) + self.te_mid(t).reshape(n, -1, 1, 1))  # (N, 40, 3, 3)\n",
    "        out4 = torch.cat((out3, self.up1(out_mid)), dim=1)  # (N, 80, 7, 7)\n",
    "        out4 = self.b4(out4 + self.te4(t).reshape(n, -1, 1, 1))  # (N, 20, 7, 7)\n",
    "        out5 = torch.cat((out2, self.up2(out4)), dim=1)  # (N, 40, 14, 14)\n",
    "        out5 = self.b5(out5 + self.te5(t).reshape(n, -1, 1, 1))  # (N, 10, 14, 14)\n",
    "        out = torch.cat((out1, self.up3(out5)), dim=1)  # (N, 20, 28, 28)\n",
    "        out = self.b_out(out + self.te_out(t).reshape(n, -1, 1, 1))  # (N, 1, 28, 28)\n",
    "        out = self.conv_out(out)\n",
    "        return out\n",
    "\n",
    "\n",
    "\n"
   ]
  },
  {
   "cell_type": "code",
   "execution_count": 116,
   "metadata": {},
   "outputs": [],
   "source": [
    "\n",
    "def calc_xt(epsilon, beta, t, x0):\n",
    "    \"\"\" Note: this assumes beta doesn't vary with time step \"\"\"\n",
    "    at = (1 - beta) ** t\n",
    "    # print(f'at: {at.shape} x0: {x0.shape} epsilon: {epsilon.shape}')\n",
    "    return torch.sqrt(at.view(batch_size,1,1,1)) * x0 + torch.sqrt(1 - at.view(batch_size,1,1,1)) * epsilon\n",
    "\n",
    "def sample_t(batch_size, timesteps):\n",
    "    return torch.randint(0, timesteps, (batch_size,))\n",
    "\n",
    "def sample_epsilon(batch_size, img_h, img_w):\n",
    "    return torch.normal(torch.zeros((batch_size, 1, img_h, img_w)), torch.ones((batch_size, 1, img_h, img_w)))\n",
    "\n",
    "def calc_loss(epsilon, epsilon_pred):\n",
    "    return torch.linalg.vector_norm(epsilon - epsilon_pred)\n"
   ]
  },
  {
   "cell_type": "code",
   "execution_count": 117,
   "metadata": {},
   "outputs": [
    {
     "name": "stdout",
     "output_type": "stream",
     "text": [
      "Total number of parameters is: 506852\n"
     ]
    }
   ],
   "source": [
    "timesteps = 1000\n",
    "img_w = 28\n",
    "img_h = 28\n",
    "\n",
    "torch.set_default_device(device)\n",
    "model = UNet(num_steps=timesteps).to(device)\n",
    "optimizer = torch.optim.Adam(model.parameters(), lr=learning_rate)\n",
    "params = sum(p.numel() for p in model.parameters() if p.requires_grad)\n",
    "print(\"Total number of parameters is: {}\".format(params))"
   ]
  },
  {
   "cell_type": "code",
   "execution_count": 118,
   "metadata": {},
   "outputs": [
    {
     "name": "stderr",
     "output_type": "stream",
     "text": [
      "Train Epoch 0: 100%|██████████| 7500/7500 [05:34<00:00, 22.42batch/s, loss=2.39]\n"
     ]
    },
    {
     "name": "stdout",
     "output_type": "stream",
     "text": [
      "Train Loss: 2.3854247980912526\n"
     ]
    },
    {
     "name": "stderr",
     "output_type": "stream",
     "text": [
      "  0%|          | 0/1250 [00:00<?, ?batch/s]\n"
     ]
    },
    {
     "ename": "TypeError",
     "evalue": "sample_epsilon() missing 1 required positional argument: 'img_w'",
     "output_type": "error",
     "traceback": [
      "\u001b[0;31m---------------------------------------------------------------------------\u001b[0m",
      "\u001b[0;31mTypeError\u001b[0m                                 Traceback (most recent call last)",
      "Cell \u001b[0;32mIn[118], line 31\u001b[0m\n\u001b[1;32m     29\u001b[0m data \u001b[38;5;241m=\u001b[39m data\u001b[38;5;241m.\u001b[39mto(device)\n\u001b[1;32m     30\u001b[0m \u001b[38;5;28;01mwith\u001b[39;00m torch\u001b[38;5;241m.\u001b[39mno_grad():\n\u001b[0;32m---> 31\u001b[0m     epsilon \u001b[38;5;241m=\u001b[39m \u001b[43msample_epsilon\u001b[49m\u001b[43m(\u001b[49m\u001b[43mbatch_size\u001b[49m\u001b[43m,\u001b[49m\u001b[43m \u001b[49m\u001b[43mimg_w\u001b[49m\u001b[38;5;241;43m*\u001b[39;49m\u001b[43mimg_h\u001b[49m\u001b[43m)\u001b[49m\n\u001b[1;32m     32\u001b[0m     t \u001b[38;5;241m=\u001b[39m sample_t(batch_size, timesteps)\n\u001b[1;32m     33\u001b[0m     xt \u001b[38;5;241m=\u001b[39m calc_xt(epsilon, beta, t, data)\n",
      "\u001b[0;31mTypeError\u001b[0m: sample_epsilon() missing 1 required positional argument: 'img_w'"
     ]
    }
   ],
   "source": [
    "\n",
    "train_loss, test_loss = [], []\n",
    "\n",
    "for epoch in range(num_epochs):\n",
    "    epoch_train_loss = 0\n",
    "    epoch_test_loss = 0\n",
    "    if epoch > 1:\n",
    "        break \n",
    "\n",
    "    with tqdm.tqdm(loader_train, unit=\"batch\") as tepoch:\n",
    "        for batch_idx, (data, _) in enumerate(tepoch):\n",
    "            data = data.to(device)\n",
    "            epsilon = sample_epsilon(batch_size, img_h, img_w)\n",
    "            t = sample_t(batch_size, timesteps)\n",
    "            xt = calc_xt(epsilon, beta, t, data)\n",
    "            epsilon_pred = model(xt, t)\n",
    "            loss = calc_loss(epsilon, epsilon_pred)\n",
    "            loss.backward()\n",
    "            optimizer.step()\n",
    "            optimizer.zero_grad()\n",
    "            epoch_train_loss += loss.item()\n",
    "            if batch_idx % 20 == 0:\n",
    "                tepoch.set_description(f\"Train Epoch {epoch}\")\n",
    "                tepoch.set_postfix(loss=epoch_train_loss/((batch_idx+1) * batch_size))\n",
    "        print(f'Train Loss: {epoch_train_loss / (len(tepoch) * batch_size)}')\n",
    "        train_loss.append(epoch_train_loss / (len(tepoch) * batch_size))\n",
    "\n",
    "        with tqdm.tqdm(loader_test, unit=\"batch\") as tepoch:\n",
    "            for batch_idx, (data, _) in enumerate(tepoch):\n",
    "                data = data.to(device)\n",
    "                with torch.no_grad():\n",
    "                    epsilon = sample_epsilon(batch_size, img_h, img_w)\n",
    "                    t = sample_t(batch_size, timesteps)\n",
    "                    xt = calc_xt(epsilon, beta, t, data)\n",
    "                    epsilon_pred = model(xt, t)\n",
    "                    loss = calc_loss(epsilon, epsilon_pred)\n",
    "                    epoch_test_loss += loss.item()\n",
    "            print(f'Test Loss: {epoch_test_loss / (len(tepoch) * batch_size)}')\n",
    "            test_loss.append(epoch_test_loss / (len(tepoch) * batch_size))\n",
    "        "
   ]
  },
  {
   "cell_type": "code",
   "execution_count": null,
   "metadata": {},
   "outputs": [],
   "source": [
    "x1 = torch.tensor([3,3,3])\n",
    "x2 = torch.tensor([2,2,2])\n",
    "print((x1+1) ** x2)"
   ]
  },
  {
   "cell_type": "code",
   "execution_count": null,
   "metadata": {},
   "outputs": [],
   "source": [
    "x1 = torch.tensor([1,2,3,4])\n",
    "x2 = torch.tensor([[3,3],[3,3],[3,3],[3,3]])\n",
    "print(x1.shape)\n",
    "print(x2.shape)\n",
    "x3 = x1.view((4,1)) * x2\n",
    "print(x3)"
   ]
  },
  {
   "cell_type": "code",
   "execution_count": null,
   "metadata": {},
   "outputs": [],
   "source": []
  }
 ],
 "metadata": {
  "kernelspec": {
   "display_name": "venv",
   "language": "python",
   "name": "python3"
  },
  "language_info": {
   "codemirror_mode": {
    "name": "ipython",
    "version": 3
   },
   "file_extension": ".py",
   "mimetype": "text/x-python",
   "name": "python",
   "nbconvert_exporter": "python",
   "pygments_lexer": "ipython3",
   "version": "3.10.12"
  }
 },
 "nbformat": 4,
 "nbformat_minor": 2
}
